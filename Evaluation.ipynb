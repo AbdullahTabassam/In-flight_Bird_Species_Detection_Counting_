{
 "cells": [
  {
   "cell_type": "markdown",
   "id": "ea9c02b1",
   "metadata": {},
   "source": [
    "# In-flight Birds detection, species detection, and counting\n",
    "\n",
    "\n",
    "_________________________________________________________________________________________________________________\n",
    "### Evaluation"
   ]
  },
  {
   "cell_type": "code",
   "execution_count": 1,
   "id": "b6e84131",
   "metadata": {},
   "outputs": [
    {
     "name": "stderr",
     "output_type": "stream",
     "text": [
      "/home/msc1/anaconda3/envs/PT/lib/python3.8/site-packages/tqdm/auto.py:21: TqdmWarning: IProgress not found. Please update jupyter and ipywidgets. See https://ipywidgets.readthedocs.io/en/stable/user_install.html\n",
      "  from .autonotebook import tqdm as notebook_tqdm\n",
      "Ultralytics YOLOv8.0.136 🚀 Python-3.8.17 torch-2.0.1+cu117 CUDA:0 (NVIDIA GeForce RTX 3090, 24268MiB)\n",
      "YOLOv8l summary (fused): 268 layers, 43607379 parameters, 0 gradients\n",
      "\u001b[34m\u001b[1mval: \u001b[0mScanning /home/msc1/Desktop/YOLO/data/labels/test.cache... 2209 images, 0 backgrounds, 0 corrupt: 100%|██████████| 2209/2209 [00:00<?, ?it/s]\n",
      "\u001b[34m\u001b[1mval: \u001b[0mWARNING ⚠️ /home/msc1/Desktop/YOLO/data/images/test/seabirds_rgb_808.png: 1 duplicate labels removed\n",
      "\u001b[34m\u001b[1mval: \u001b[0mWARNING ⚠️ /home/msc1/Desktop/YOLO/data/images/test/seabirds_rgb_810.png: 1 duplicate labels removed\n",
      "\u001b[34m\u001b[1mval: \u001b[0mWARNING ⚠️ /home/msc1/Desktop/YOLO/data/images/test/seabirds_rgb_850.png: 1 duplicate labels removed\n",
      "                 Class     Images  Instances      Box(P          R      mAP50  mAP50-95):   1%|▏         | 2/139 [00:04<05:40,  2.48s/it]WARNING ⚠️ NMS time limit 1.300s exceeded\n",
      "                 Class     Images  Instances      Box(P          R      mAP50  mAP50-95):   2%|▏         | 3/139 [00:06<05:16,  2.33s/it]WARNING ⚠️ NMS time limit 1.300s exceeded\n",
      "                 Class     Images  Instances      Box(P          R      mAP50  mAP50-95): 100%|██████████| 139/139 [00:35<00:00,  3.96it/s]\n",
      "                   all       2209      34336      0.854      0.834      0.861      0.479\n",
      "Speed: 0.2ms preprocess, 8.4ms inference, 0.0ms loss, 1.9ms postprocess per image\n",
      "Results saved to \u001b[1mruns/detect/val12\u001b[0m\n"
     ]
    }
   ],
   "source": [
    "from ultralytics import YOLO\n",
    "# Load the model\n",
    "model = YOLO(\"runs/train_save/weights/best.pt\")\n",
    "# Validation metrics\n",
    "metrics = model.val()  # no arguments needed, dataset and settings remembered"
   ]
  },
  {
   "cell_type": "markdown",
   "id": "58d9c774",
   "metadata": {},
   "source": [
    "### Create a custom classification report \n",
    "##### (to show the F1 Score as well)"
   ]
  },
  {
   "cell_type": "code",
   "execution_count": 2,
   "id": "01df8721",
   "metadata": {
    "scrolled": true
   },
   "outputs": [
    {
     "name": "stdout",
     "output_type": "stream",
     "text": [
      "Class                images     instances  P          R          F1-Score   mAP50      mAP50-95   \n",
      "all                  2209       34336      0.854      0.834      0.844      0.861      0.479     \n"
     ]
    }
   ],
   "source": [
    "# Create custom Classification report\n",
    "col = ['Class', 'images', 'instances', 'P', 'R', 'F1-Score', 'mAP50', 'mAP50-95']\n",
    "f1_avg = sum(metrics.box.f1)\n",
    "all = 'all'\n",
    "images= '2209'\n",
    "instances = '34336'\n",
    "print(f\"{col[0]: <20} {col[1]: <10} {col[2]: <10} {col[3]: <10} {col[4]: <10} {col[5]: <10} {col[6]: <10} {col[7]: <10} \")\n",
    "\n",
    "print(f\"{all: <20} {images: <10} {instances: <10} {round(metrics.box.mp,3): <10} {round(metrics.box.mr,3): <10} {round(f1_avg,3): <10} {round(metrics.box.map50,3): <10} {round(metrics.box.map,3): <10}\")\n"
   ]
  },
  {
   "cell_type": "markdown",
   "id": "eda0ef11",
   "metadata": {},
   "source": [
    "### Note:\n",
    "_________________________________________________________________________________________________________________\n",
    "The plots for the evaluation are available in the results folder.\n",
    "_________________________________________________________________________________________________________________"
   ]
  }
 ],
 "metadata": {
  "kernelspec": {
   "display_name": "Python 3 (ipykernel)",
   "language": "python",
   "name": "python3"
  },
  "language_info": {
   "codemirror_mode": {
    "name": "ipython",
    "version": 3
   },
   "file_extension": ".py",
   "mimetype": "text/x-python",
   "name": "python",
   "nbconvert_exporter": "python",
   "pygments_lexer": "ipython3",
   "version": "3.8.17"
  }
 },
 "nbformat": 4,
 "nbformat_minor": 5
}
