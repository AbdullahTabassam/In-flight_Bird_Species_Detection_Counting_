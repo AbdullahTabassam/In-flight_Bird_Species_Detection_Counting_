{
 "cells": [
  {
   "cell_type": "markdown",
   "id": "4af924c3",
   "metadata": {},
   "source": [
    "# In-flight Birds detection, species detection, and counting\n",
    "\n",
    "\n",
    "_________________________________________________________________________________________________________________\n",
    "### Hyperparameter Tunning"
   ]
  },
  {
   "cell_type": "code",
   "execution_count": null,
   "id": "dde9fb21",
   "metadata": {
    "scrolled": true
   },
   "outputs": [],
   "source": [
    "from ultralytics import YOLO\n",
    "\n",
    "lr0=0.01\n",
    "lrf_set=[0.01, 0.001, 0.0001]\n",
    "warmup_epochs_set=[2.0, 3.0, 5.0]\n",
    "warmup_momentum_set=[0.70, 0.75, 0.80, 0.85, 0.90, 0.95]\n",
    "optimizer = 'auto'\n",
    "# Load the model\n",
    "model = YOLO(\"yolov8l.yaml\")  # fine tune YOLO v8 large model\n",
    "# Train the model with above parameter values\n",
    "for lrf in lrf_set:\n",
    "    for warmup_epochs_set in warmup_epochs_set:\n",
    "        for warmup_momentum_set in warmup_momentum_set:\n",
    "            results = model.train(data=\"config.yaml\",\n",
    "                                  lr0 = lr0,\n",
    "                                  lrf = lrf,\n",
    "                                  warmup_epochs = warmup_epochs,\n",
    "                                  warmup_momentum = warmup_momentum,\n",
    "                                  optimizer = optimizer,\n",
    "                                  project = f'TUNED_lr0_{lr0}_lrf_{lrf}_warmup_epochs_{warmup_epochs}_warmup_momentum_{warmup_momentum}_optimizer_{optimizer}',\n",
    "                                  epochs = 10)"
   ]
  },
  {
   "cell_type": "markdown",
   "id": "3166773d",
   "metadata": {},
   "source": [
    "### Note:\n",
    "_________________________________________________________________________________________________________________\n",
    "- The code kept crashing because of out of memory error. To cater this, the tunning was done in parts.\n",
    "\n",
    "- The plots were observed using wandb on weights and biases server.\n",
    "_________________________________________________________________________________________________________________"
   ]
  },
  {
   "cell_type": "code",
   "execution_count": null,
   "id": "378d06a4",
   "metadata": {},
   "outputs": [],
   "source": [
    "# Using the chosen parameters:\n",
    "lr0 = 0.01\n",
    "lrf = 0.001\n",
    "warmup_epochs = 5.0\n",
    "warmup_momentum = 0.95\n",
    "optimizer_set = ['SGD', 'Adam', 'RMSProp']\n",
    "# Load the model\n",
    "model = YOLO(\"yolov8l.yaml\")  # fine tune YOLO v8 large model\n",
    "# Train the model with above parameter values\n",
    "\n",
    "fpr optimizer in optimizer_set:\n",
    "    results = model.train(data=\"config.yaml\",\n",
    "                                      lr0 = lr0,\n",
    "                                      lrf = lrf,\n",
    "                                      warmup_epochs = warmup_epochs,\n",
    "                                      warmup_momentum = warmup_momentum,\n",
    "                                      optimizer = optimizer,\n",
    "                                      project = f'TUNED_lr0_{lr0}_lrf_{lrf}_warmup_epochs_{warmup_epochs}_warmup_momentum_{warmup_momentum}_optimizer_{optimizer}',\n",
    "                                      epochs = 10)"
   ]
  },
  {
   "cell_type": "markdown",
   "id": "a9eca7b7",
   "metadata": {},
   "source": [
    "#### If you want to resume any training pass only the argument resume = True"
   ]
  },
  {
   "cell_type": "code",
   "execution_count": null,
   "id": "39f60320",
   "metadata": {},
   "outputs": [],
   "source": [
    "from ultralytics import YOLO\n",
    "model = YOLO(\"TUNED_lr0_0.01_lrf_0.001_warmup_epochs_5.0_warmup_momentum_0.95_optimizer_auto/train/weights/last.pt\")  # build a new model from scratch\n",
    "# Train the model with current parameter values\n",
    "results = model.train(resume=True)"
   ]
  }
 ],
 "metadata": {
  "kernelspec": {
   "display_name": "Python 3 (ipykernel)",
   "language": "python",
   "name": "python3"
  },
  "language_info": {
   "codemirror_mode": {
    "name": "ipython",
    "version": 3
   },
   "file_extension": ".py",
   "mimetype": "text/x-python",
   "name": "python",
   "nbconvert_exporter": "python",
   "pygments_lexer": "ipython3",
   "version": "3.8.17"
  }
 },
 "nbformat": 4,
 "nbformat_minor": 5
}
